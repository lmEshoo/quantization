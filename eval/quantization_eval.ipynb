{
  "nbformat": 4,
  "nbformat_minor": 0,
  "metadata": {
    "colab": {
      "name": "quantization_eval.ipynb",
      "provenance": [],
      "collapsed_sections": [],
      "toc_visible": true
    },
    "kernelspec": {
      "name": "python3",
      "display_name": "Python 3"
    },
    "accelerator": "GPU"
  },
  "cells": [
    {
      "cell_type": "code",
      "metadata": {
        "id": "XgbCC42-V87K",
        "colab_type": "code",
        "outputId": "2387d894-5079-4828-d968-0daadfa8345e",
        "colab": {
          "base_uri": "https://localhost:8080/",
          "height": 52
        }
      },
      "source": [
        "import tensorflow as tf\n",
        "tf.__version__\n",
        "!pip uninstall tensorflow -y\n"
      ],
      "execution_count": 0,
      "outputs": [
        {
          "output_type": "stream",
          "text": [
            "Uninstalling tensorflow-1.15.0:\n",
            "  Successfully uninstalled tensorflow-1.15.0\n"
          ],
          "name": "stdout"
        }
      ]
    },
    {
      "cell_type": "code",
      "metadata": {
        "id": "333Uwxn5WNQr",
        "colab_type": "code",
        "outputId": "6dae0402-f96b-49f6-e131-6021767e13c0",
        "colab": {
          "base_uri": "https://localhost:8080/",
          "height": 950
        }
      },
      "source": [
        "!pip install tensorflow==2.1.0"
      ],
      "execution_count": 0,
      "outputs": [
        {
          "output_type": "stream",
          "text": [
            "Collecting tensorflow==2.1.0\n",
            "\u001b[?25l  Downloading https://files.pythonhosted.org/packages/85/d4/c0cd1057b331bc38b65478302114194bd8e1b9c2bbc06e300935c0e93d90/tensorflow-2.1.0-cp36-cp36m-manylinux2010_x86_64.whl (421.8MB)\n",
            "\u001b[K     |████████████████████████████████| 421.8MB 22kB/s \n",
            "\u001b[?25hRequirement already satisfied: wheel>=0.26; python_version >= \"3\" in /usr/local/lib/python3.6/dist-packages (from tensorflow==2.1.0) (0.34.2)\n",
            "Requirement already satisfied: termcolor>=1.1.0 in /usr/local/lib/python3.6/dist-packages (from tensorflow==2.1.0) (1.1.0)\n",
            "Requirement already satisfied: keras-preprocessing>=1.1.0 in /usr/local/lib/python3.6/dist-packages (from tensorflow==2.1.0) (1.1.0)\n",
            "Requirement already satisfied: six>=1.12.0 in /usr/local/lib/python3.6/dist-packages (from tensorflow==2.1.0) (1.12.0)\n",
            "Requirement already satisfied: numpy<2.0,>=1.16.0 in /usr/local/lib/python3.6/dist-packages (from tensorflow==2.1.0) (1.17.5)\n",
            "Requirement already satisfied: absl-py>=0.7.0 in /usr/local/lib/python3.6/dist-packages (from tensorflow==2.1.0) (0.9.0)\n",
            "Requirement already satisfied: astor>=0.6.0 in /usr/local/lib/python3.6/dist-packages (from tensorflow==2.1.0) (0.8.1)\n",
            "Requirement already satisfied: google-pasta>=0.1.6 in /usr/local/lib/python3.6/dist-packages (from tensorflow==2.1.0) (0.1.8)\n",
            "Collecting tensorflow-estimator<2.2.0,>=2.1.0rc0\n",
            "\u001b[?25l  Downloading https://files.pythonhosted.org/packages/18/90/b77c328a1304437ab1310b463e533fa7689f4bfc41549593056d812fab8e/tensorflow_estimator-2.1.0-py2.py3-none-any.whl (448kB)\n",
            "\u001b[K     |████████████████████████████████| 450kB 49.7MB/s \n",
            "\u001b[?25hRequirement already satisfied: opt-einsum>=2.3.2 in /usr/local/lib/python3.6/dist-packages (from tensorflow==2.1.0) (3.1.0)\n",
            "Requirement already satisfied: scipy==1.4.1; python_version >= \"3\" in /usr/local/lib/python3.6/dist-packages (from tensorflow==2.1.0) (1.4.1)\n",
            "Requirement already satisfied: keras-applications>=1.0.8 in /usr/local/lib/python3.6/dist-packages (from tensorflow==2.1.0) (1.0.8)\n",
            "Collecting tensorboard<2.2.0,>=2.1.0\n",
            "\u001b[?25l  Downloading https://files.pythonhosted.org/packages/40/23/53ffe290341cd0855d595b0a2e7485932f473798af173bbe3a584b99bb06/tensorboard-2.1.0-py3-none-any.whl (3.8MB)\n",
            "\u001b[K     |████████████████████████████████| 3.8MB 56.9MB/s \n",
            "\u001b[?25hRequirement already satisfied: wrapt>=1.11.1 in /usr/local/lib/python3.6/dist-packages (from tensorflow==2.1.0) (1.11.2)\n",
            "Requirement already satisfied: protobuf>=3.8.0 in /usr/local/lib/python3.6/dist-packages (from tensorflow==2.1.0) (3.10.0)\n",
            "Requirement already satisfied: grpcio>=1.8.6 in /usr/local/lib/python3.6/dist-packages (from tensorflow==2.1.0) (1.27.1)\n",
            "Requirement already satisfied: gast==0.2.2 in /usr/local/lib/python3.6/dist-packages (from tensorflow==2.1.0) (0.2.2)\n",
            "Requirement already satisfied: h5py in /usr/local/lib/python3.6/dist-packages (from keras-applications>=1.0.8->tensorflow==2.1.0) (2.8.0)\n",
            "Requirement already satisfied: google-auth<2,>=1.6.3 in /usr/local/lib/python3.6/dist-packages (from tensorboard<2.2.0,>=2.1.0->tensorflow==2.1.0) (1.7.2)\n",
            "Requirement already satisfied: requests<3,>=2.21.0 in /usr/local/lib/python3.6/dist-packages (from tensorboard<2.2.0,>=2.1.0->tensorflow==2.1.0) (2.21.0)\n",
            "Requirement already satisfied: setuptools>=41.0.0 in /usr/local/lib/python3.6/dist-packages (from tensorboard<2.2.0,>=2.1.0->tensorflow==2.1.0) (45.1.0)\n",
            "Requirement already satisfied: markdown>=2.6.8 in /usr/local/lib/python3.6/dist-packages (from tensorboard<2.2.0,>=2.1.0->tensorflow==2.1.0) (3.2.1)\n",
            "Requirement already satisfied: google-auth-oauthlib<0.5,>=0.4.1 in /usr/local/lib/python3.6/dist-packages (from tensorboard<2.2.0,>=2.1.0->tensorflow==2.1.0) (0.4.1)\n",
            "Requirement already satisfied: werkzeug>=0.11.15 in /usr/local/lib/python3.6/dist-packages (from tensorboard<2.2.0,>=2.1.0->tensorflow==2.1.0) (1.0.0)\n",
            "Requirement already satisfied: cachetools<3.2,>=2.0.0 in /usr/local/lib/python3.6/dist-packages (from google-auth<2,>=1.6.3->tensorboard<2.2.0,>=2.1.0->tensorflow==2.1.0) (3.1.1)\n",
            "Requirement already satisfied: pyasn1-modules>=0.2.1 in /usr/local/lib/python3.6/dist-packages (from google-auth<2,>=1.6.3->tensorboard<2.2.0,>=2.1.0->tensorflow==2.1.0) (0.2.8)\n",
            "Requirement already satisfied: rsa<4.1,>=3.1.4 in /usr/local/lib/python3.6/dist-packages (from google-auth<2,>=1.6.3->tensorboard<2.2.0,>=2.1.0->tensorflow==2.1.0) (4.0)\n",
            "Requirement already satisfied: certifi>=2017.4.17 in /usr/local/lib/python3.6/dist-packages (from requests<3,>=2.21.0->tensorboard<2.2.0,>=2.1.0->tensorflow==2.1.0) (2019.11.28)\n",
            "Requirement already satisfied: idna<2.9,>=2.5 in /usr/local/lib/python3.6/dist-packages (from requests<3,>=2.21.0->tensorboard<2.2.0,>=2.1.0->tensorflow==2.1.0) (2.8)\n",
            "Requirement already satisfied: urllib3<1.25,>=1.21.1 in /usr/local/lib/python3.6/dist-packages (from requests<3,>=2.21.0->tensorboard<2.2.0,>=2.1.0->tensorflow==2.1.0) (1.24.3)\n",
            "Requirement already satisfied: chardet<3.1.0,>=3.0.2 in /usr/local/lib/python3.6/dist-packages (from requests<3,>=2.21.0->tensorboard<2.2.0,>=2.1.0->tensorflow==2.1.0) (3.0.4)\n",
            "Requirement already satisfied: requests-oauthlib>=0.7.0 in /usr/local/lib/python3.6/dist-packages (from google-auth-oauthlib<0.5,>=0.4.1->tensorboard<2.2.0,>=2.1.0->tensorflow==2.1.0) (1.3.0)\n",
            "Requirement already satisfied: pyasn1<0.5.0,>=0.4.6 in /usr/local/lib/python3.6/dist-packages (from pyasn1-modules>=0.2.1->google-auth<2,>=1.6.3->tensorboard<2.2.0,>=2.1.0->tensorflow==2.1.0) (0.4.8)\n",
            "Requirement already satisfied: oauthlib>=3.0.0 in /usr/local/lib/python3.6/dist-packages (from requests-oauthlib>=0.7.0->google-auth-oauthlib<0.5,>=0.4.1->tensorboard<2.2.0,>=2.1.0->tensorflow==2.1.0) (3.1.0)\n",
            "Installing collected packages: tensorflow-estimator, tensorboard, tensorflow\n",
            "  Found existing installation: tensorflow-estimator 1.15.1\n",
            "    Uninstalling tensorflow-estimator-1.15.1:\n",
            "      Successfully uninstalled tensorflow-estimator-1.15.1\n",
            "  Found existing installation: tensorboard 1.15.0\n",
            "    Uninstalling tensorboard-1.15.0:\n",
            "      Successfully uninstalled tensorboard-1.15.0\n",
            "Successfully installed tensorboard-2.1.0 tensorflow-2.1.0 tensorflow-estimator-2.1.0\n"
          ],
          "name": "stdout"
        },
        {
          "output_type": "display_data",
          "data": {
            "application/vnd.colab-display-data+json": {
              "pip_warning": {
                "packages": [
                  "tensorboard",
                  "tensorflow",
                  "tensorflow_core",
                  "tensorflow_estimator"
                ]
              }
            }
          },
          "metadata": {
            "tags": []
          }
        }
      ]
    },
    {
      "cell_type": "code",
      "metadata": {
        "id": "edwfwq8yX40u",
        "colab_type": "code",
        "colab": {}
      },
      "source": [
        "# path to test image\n",
        "test_img_path = \"ILSVRC2012_val_00001110.JPEG\"\n",
        "# test_img_path = \"test_image_1.jpg\"\n",
        "QUANTIZE_MODEL = True\n",
        "\n",
        "if (QUANTIZE_MODEL):\n",
        "  test_model_path = \"/content/tmp_mobile_quant/test.pb\"\n",
        "else \n",
        "  test_model_path = \"/content/mobilenet_v2_1.0_224.pb\"\n"
      ],
      "execution_count": 0,
      "outputs": []
    },
    {
      "cell_type": "code",
      "metadata": {
        "id": "T3E31VHjb1e9",
        "colab_type": "code",
        "outputId": "6cdc8c66-86f5-4cdd-c84e-4001b670444b",
        "colab": {
          "base_uri": "https://localhost:8080/",
          "height": 35
        }
      },
      "source": [
        "!ls"
      ],
      "execution_count": 0,
      "outputs": [
        {
          "output_type": "stream",
          "text": [
            "dataset  drive\timagenet2012_validation_100_labels.txt\tsample_data\n"
          ],
          "name": "stdout"
        }
      ]
    },
    {
      "cell_type": "code",
      "metadata": {
        "id": "f2BPd1rRrMTv",
        "colab_type": "code",
        "colab": {}
      },
      "source": [
        "class MobileNetV2(object):\n",
        "\n",
        "    def __init__(self, model_filepath):\n",
        "\n",
        "        self.model_filepath = model_filepath\n",
        "\n",
        "        # Load and Initialize model\n",
        "        self.load_graph(model_filepath = self.model_filepath)\n",
        "\n",
        "\n",
        "    def load_graph(self, model_filepath):\n",
        "\n",
        "        print('Loading model...')\n",
        "        self.graph = tf.Graph()\n",
        "\n",
        "        with tf.io.gfile.GFile(test_model_path, 'rb') as f:\n",
        "            graph_def = tf.compat.v1.GraphDef()\n",
        "            graph_def.ParseFromString(f.read())\n",
        "        \n",
        "        with tf.Graph().as_default() as self.graph:\n",
        "          tf.import_graph_def(graph_def,\n",
        "                          input_map=None,\n",
        "                          return_elements=None,\n",
        "                          name=\"\")\n",
        "        \n",
        "        # print(self.graph.get_tensor_by_name(\"input:0\"))\n",
        "        # print(self.graph.get_tensor_by_name(\"MobilenetV2/Logits/Conv2d_1c_1x1/BiasAdd:0\"))\n",
        "\n",
        "        #Print all operations!\n",
        "        # for op in self.graph.get_operations():\n",
        "        #       # print(op.name)\n",
        "        #       print(self.graph.get_tensor_by_name(op.name+\":0\"))\n",
        "        \n",
        "        print('Model loading complete!')\n",
        "\n",
        "    def predict(self, img):\n",
        "        if(QUANTIZE_MODEL):\n",
        "          y_pred = self.graph.get_tensor_by_name(\"output_fx:0\")\n",
        "        else:\n",
        "          y_pred = self.graph.get_tensor_by_name(\"MobilenetV2/Logits/Conv2d_1c_1x1/BiasAdd:0\")\n",
        "        # y_pred = tf.reshape(y_pred, [1,1,1,1001])\n",
        "        # print(y_pred.shape)\n",
        "        if(QUANTIZE_MODEL):\n",
        "          x= self.graph.get_tensor_by_name(\"input_fx:0\")\n",
        "        else:\n",
        "          x= self.graph.get_tensor_by_name(\"input:0\")\n",
        "        sess= tf.compat.v1.Session(graph=self.graph)\n",
        "        # creating the dict to calculate y_pred \n",
        "        test_dict = {x: img}\n",
        "        result=sess.run(y_pred, feed_dict=test_dict)\n",
        "        # print(result.shape)\n",
        "        return result\n"
      ],
      "execution_count": 0,
      "outputs": []
    },
    {
      "cell_type": "code",
      "metadata": {
        "id": "HYIozn0ZYm-Y",
        "colab_type": "code",
        "outputId": "7bb5a95f-08cf-48f7-980e-2b1faccb9d9b",
        "colab": {
          "base_uri": "https://localhost:8080/",
          "height": 72
        }
      },
      "source": [
        "dataset_path='/content/dataset/'\n",
        "from os import listdir\n",
        "from os.path import isfile, join\n",
        "\n",
        "def listOfTuples(l1, l2): \n",
        "    return list(map(lambda x, y:(x,y), l1, l2)) \n",
        "\n",
        "#Get 100 images\n",
        "imagenet_100=sorted(listdir(dataset_path))\n",
        "print(imagenet_100)\n",
        "#Get 100 labels\n",
        "with open('imagenet2012_validation_100_labels.txt') as f:\n",
        "    labels = f.read().splitlines()\n",
        "\n",
        "dataset = listOfTuples(imagenet_100, labels)\n",
        "print(dataset[0][0])"
      ],
      "execution_count": 0,
      "outputs": [
        {
          "output_type": "stream",
          "text": [
            "['ILSVRC2012_val_00000001.JPEG', 'ILSVRC2012_val_00000002.JPEG', 'ILSVRC2012_val_00000003.JPEG', 'ILSVRC2012_val_00000004.JPEG', 'ILSVRC2012_val_00000005.JPEG', 'ILSVRC2012_val_00000006.JPEG', 'ILSVRC2012_val_00000007.JPEG', 'ILSVRC2012_val_00000008.JPEG', 'ILSVRC2012_val_00000009.JPEG', 'ILSVRC2012_val_00000010.JPEG', 'ILSVRC2012_val_00000011.JPEG', 'ILSVRC2012_val_00000012.JPEG', 'ILSVRC2012_val_00000013.JPEG', 'ILSVRC2012_val_00000014.JPEG', 'ILSVRC2012_val_00000015.JPEG', 'ILSVRC2012_val_00000016.JPEG', 'ILSVRC2012_val_00000017.JPEG', 'ILSVRC2012_val_00000018.JPEG', 'ILSVRC2012_val_00000019.JPEG', 'ILSVRC2012_val_00000020.JPEG', 'ILSVRC2012_val_00000021.JPEG', 'ILSVRC2012_val_00000022.JPEG', 'ILSVRC2012_val_00000023.JPEG', 'ILSVRC2012_val_00000024.JPEG', 'ILSVRC2012_val_00000025.JPEG', 'ILSVRC2012_val_00000026.JPEG', 'ILSVRC2012_val_00000027.JPEG', 'ILSVRC2012_val_00000028.JPEG', 'ILSVRC2012_val_00000029.JPEG', 'ILSVRC2012_val_00000030.JPEG', 'ILSVRC2012_val_00000031.JPEG', 'ILSVRC2012_val_00000032.JPEG', 'ILSVRC2012_val_00000033.JPEG', 'ILSVRC2012_val_00000034.JPEG', 'ILSVRC2012_val_00000035.JPEG', 'ILSVRC2012_val_00000036.JPEG', 'ILSVRC2012_val_00000037.JPEG', 'ILSVRC2012_val_00000038.JPEG', 'ILSVRC2012_val_00000039.JPEG', 'ILSVRC2012_val_00000040.JPEG', 'ILSVRC2012_val_00000041.JPEG']\n",
            "ILSVRC2012_val_00000001.JPEG\n"
          ],
          "name": "stdout"
        }
      ]
    },
    {
      "cell_type": "code",
      "metadata": {
        "id": "imbxNPWgRIE_",
        "colab_type": "code",
        "outputId": "8ac97fcc-de63-4466-f607-d92c3feb714a",
        "colab": {
          "base_uri": "https://localhost:8080/",
          "height": 104
        }
      },
      "source": [
        "import numpy as np\n",
        "import tensorflow as tf\n",
        "from tensorflow.keras.preprocessing import image\n",
        "from tensorflow.keras.applications import imagenet_utils, mobilenet\n",
        "import os\n",
        "import cv2\n",
        "from tensorflow.compat.v1 import enable_eager_execution\n",
        "\n",
        "from matplotlib import pyplot as plt\n",
        "%matplotlib inline\n",
        "\n",
        "print(os.path.join(os.getcwd()))\n",
        "def process_image(img_path, mobnet=False):\n",
        "  if(mobnet):\n",
        "    img = image.load_img(img_path, target_size=(224, 224))\n",
        "    img_array = image.img_to_array(img)\n",
        "    img_array = np.expand_dims(img_array, axis=0)\n",
        "    pImg = mobilenet.preprocess_input(img_array)\n",
        "    # print(pImg.shape)\n",
        "  else:\n",
        "    from PIL import Image\n",
        "    import cv2\n",
        "    x = cv2.imread(img_path)\n",
        "    # print(x)\n",
        "    x=x[:,:,::-1]\n",
        "    img = Image.fromarray(x,'RGB')\n",
        "    pImg=np.array(img.resize((224,224))).astype(np.float)/128-1\n",
        "    pImg = np.reshape(pImg, [1,224,224,3])\n",
        "  return pImg\n",
        "\n",
        "def imshow(img):\n",
        "    img = img / 2 + 0.5  # unnormalize\n",
        "    plt.imshow(np.transpose(img, (1, 2, 0)))  # convert from Tensor image\n",
        "\n",
        "if __name__ == '__main__':\n",
        "  tf.compat.v1.enable_eager_execution()\n",
        "  # load model\n",
        "  # model = mobilenet.MobileNet()\n",
        "  model = MobileNetV2(test_model_path)\n",
        "\n",
        "  good = []\n",
        "  # process\n",
        "  for image in dataset:\n",
        "    # print(image)\n",
        "    pImg = process_image(\"dataset/\"+image[0])\n",
        "\n",
        "    # predict\n",
        "    prediction = model.predict(pImg)\n",
        "    prediction = prediction.flatten()[:-1]\n",
        "    prediction = np.reshape(prediction,[1,1000])\n",
        "    results = imagenet_utils.decode_predictions(prediction, top=50)\n",
        "    # print(len(results[0]))\n",
        "    # print(len(results))\n",
        "    for r in results[0]:\n",
        "        # print(len(r),r[0])\n",
        "        if (r[0]==image[1]): \n",
        "          print(r[1],r[2],image[0])\n",
        "\n",
        "          # img = cv2.imread(\"dataset/\"+image[0])\n",
        "          # img2 = img[:,:,::-1]\n",
        "          # plt.imshow(img)"
      ],
      "execution_count": 0,
      "outputs": [
        {
          "output_type": "stream",
          "text": [
            "/content\n",
            "Loading model...\n",
            "Model loading complete!\n",
            "bakery 2.3125 ILSVRC2012_val_00000008.JPEG\n",
            "table_lamp 2.25 ILSVRC2012_val_00000026.JPEG\n"
          ],
          "name": "stdout"
        }
      ]
    },
    {
      "cell_type": "code",
      "metadata": {
        "id": "NH7FssIMROWz",
        "colab_type": "code",
        "colab": {}
      },
      "source": [
        ""
      ],
      "execution_count": 0,
      "outputs": []
    }
  ]
}