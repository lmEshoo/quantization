{
  "nbformat": 4,
  "nbformat_minor": 0,
  "metadata": {
    "colab": {
      "name": "quantization_eval.ipynb",
      "provenance": [],
      "collapsed_sections": [],
      "toc_visible": true
    },
    "kernelspec": {
      "name": "python3",
      "display_name": "Python 3"
    },
    "accelerator": "GPU"
  },
  "cells": [
    {
      "cell_type": "code",
      "metadata": {
        "id": "XgbCC42-V87K",
        "colab_type": "code",
        "outputId": "a007ede3-2bcf-417e-9797-36cce778fcd4",
        "colab": {
          "base_uri": "https://localhost:8080/",
          "height": 97
        }
      },
      "source": [
        "import tensorflow as tf\n",
        "tf.__version__\n",
        "!pip uninstall tensorflow -y\n"
      ],
      "execution_count": 1,
      "outputs": [
        {
          "output_type": "display_data",
          "data": {
            "text/html": [
              "<p style=\"color: red;\">\n",
              "The default version of TensorFlow in Colab will soon switch to TensorFlow 2.x.<br>\n",
              "We recommend you <a href=\"https://www.tensorflow.org/guide/migrate\" target=\"_blank\">upgrade</a> now \n",
              "or ensure your notebook will continue to use TensorFlow 1.x via the <code>%tensorflow_version 1.x</code> magic:\n",
              "<a href=\"https://colab.research.google.com/notebooks/tensorflow_version.ipynb\" target=\"_blank\">more info</a>.</p>\n"
            ],
            "text/plain": [
              "<IPython.core.display.HTML object>"
            ]
          },
          "metadata": {
            "tags": []
          }
        },
        {
          "output_type": "stream",
          "text": [
            "Uninstalling tensorflow-1.15.0:\n",
            "  Successfully uninstalled tensorflow-1.15.0\n"
          ],
          "name": "stdout"
        }
      ]
    },
    {
      "cell_type": "code",
      "metadata": {
        "id": "333Uwxn5WNQr",
        "colab_type": "code",
        "outputId": "4b0f9af5-d96a-42a6-aa58-8aadc001dc7d",
        "colab": {
          "base_uri": "https://localhost:8080/",
          "height": 939
        }
      },
      "source": [
        "!pip install tensorflow==2.1.0"
      ],
      "execution_count": 2,
      "outputs": [
        {
          "output_type": "stream",
          "text": [
            "Requirement already satisfied: tensorflow==2.1.0 in /usr/local/lib/python3.6/dist-packages (2.1.0)\n",
            "Requirement already satisfied: keras-applications>=1.0.8 in /usr/local/lib/python3.6/dist-packages (from tensorflow==2.1.0) (1.0.8)\n",
            "Requirement already satisfied: grpcio>=1.8.6 in /usr/local/lib/python3.6/dist-packages (from tensorflow==2.1.0) (1.24.3)\n",
            "Requirement already satisfied: gast==0.2.2 in /usr/local/lib/python3.6/dist-packages (from tensorflow==2.1.0) (0.2.2)\n",
            "Collecting tensorflow-estimator<2.2.0,>=2.1.0rc0\n",
            "\u001b[?25l  Downloading https://files.pythonhosted.org/packages/18/90/b77c328a1304437ab1310b463e533fa7689f4bfc41549593056d812fab8e/tensorflow_estimator-2.1.0-py2.py3-none-any.whl (448kB)\n",
            "\r\u001b[K     |▊                               | 10kB 21.3MB/s eta 0:00:01\r\u001b[K     |█▌                              | 20kB 25.7MB/s eta 0:00:01\r\u001b[K     |██▏                             | 30kB 30.2MB/s eta 0:00:01\r\u001b[K     |███                             | 40kB 33.3MB/s eta 0:00:01\r\u001b[K     |███▋                            | 51kB 34.4MB/s eta 0:00:01\r\u001b[K     |████▍                           | 61kB 36.2MB/s eta 0:00:01\r\u001b[K     |█████                           | 71kB 36.8MB/s eta 0:00:01\r\u001b[K     |█████▉                          | 81kB 37.8MB/s eta 0:00:01\r\u001b[K     |██████▋                         | 92kB 38.2MB/s eta 0:00:01\r\u001b[K     |███████▎                        | 102kB 38.5MB/s eta 0:00:01\r\u001b[K     |████████                        | 112kB 38.5MB/s eta 0:00:01\r\u001b[K     |████████▊                       | 122kB 38.5MB/s eta 0:00:01\r\u001b[K     |█████████▌                      | 133kB 38.5MB/s eta 0:00:01\r\u001b[K     |██████████▏                     | 143kB 38.5MB/s eta 0:00:01\r\u001b[K     |███████████                     | 153kB 38.5MB/s eta 0:00:01\r\u001b[K     |███████████▊                    | 163kB 38.5MB/s eta 0:00:01\r\u001b[K     |████████████▍                   | 174kB 38.5MB/s eta 0:00:01\r\u001b[K     |█████████████▏                  | 184kB 38.5MB/s eta 0:00:01\r\u001b[K     |█████████████▉                  | 194kB 38.5MB/s eta 0:00:01\r\u001b[K     |██████████████▋                 | 204kB 38.5MB/s eta 0:00:01\r\u001b[K     |███████████████▎                | 215kB 38.5MB/s eta 0:00:01\r\u001b[K     |████████████████                | 225kB 38.5MB/s eta 0:00:01\r\u001b[K     |████████████████▉               | 235kB 38.5MB/s eta 0:00:01\r\u001b[K     |█████████████████▌              | 245kB 38.5MB/s eta 0:00:01\r\u001b[K     |██████████████████▎             | 256kB 38.5MB/s eta 0:00:01\r\u001b[K     |███████████████████             | 266kB 38.5MB/s eta 0:00:01\r\u001b[K     |███████████████████▊            | 276kB 38.5MB/s eta 0:00:01\r\u001b[K     |████████████████████▍           | 286kB 38.5MB/s eta 0:00:01\r\u001b[K     |█████████████████████▏          | 296kB 38.5MB/s eta 0:00:01\r\u001b[K     |██████████████████████          | 307kB 38.5MB/s eta 0:00:01\r\u001b[K     |██████████████████████▋         | 317kB 38.5MB/s eta 0:00:01\r\u001b[K     |███████████████████████▍        | 327kB 38.5MB/s eta 0:00:01\r\u001b[K     |████████████████████████        | 337kB 38.5MB/s eta 0:00:01\r\u001b[K     |████████████████████████▉       | 348kB 38.5MB/s eta 0:00:01\r\u001b[K     |█████████████████████████▌      | 358kB 38.5MB/s eta 0:00:01\r\u001b[K     |██████████████████████████▎     | 368kB 38.5MB/s eta 0:00:01\r\u001b[K     |███████████████████████████     | 378kB 38.5MB/s eta 0:00:01\r\u001b[K     |███████████████████████████▊    | 389kB 38.5MB/s eta 0:00:01\r\u001b[K     |████████████████████████████▌   | 399kB 38.5MB/s eta 0:00:01\r\u001b[K     |█████████████████████████████▏  | 409kB 38.5MB/s eta 0:00:01\r\u001b[K     |██████████████████████████████  | 419kB 38.5MB/s eta 0:00:01\r\u001b[K     |██████████████████████████████▋ | 430kB 38.5MB/s eta 0:00:01\r\u001b[K     |███████████████████████████████▍| 440kB 38.5MB/s eta 0:00:01\r\u001b[K     |████████████████████████████████| 450kB 38.5MB/s \n",
            "\u001b[?25hRequirement already satisfied: six>=1.12.0 in /usr/local/lib/python3.6/dist-packages (from tensorflow==2.1.0) (1.12.0)\n",
            "Requirement already satisfied: protobuf>=3.8.0 in /usr/local/lib/python3.6/dist-packages (from tensorflow==2.1.0) (3.10.0)\n",
            "Requirement already satisfied: numpy<2.0,>=1.16.0 in /usr/local/lib/python3.6/dist-packages (from tensorflow==2.1.0) (1.18.2)\n",
            "Requirement already satisfied: opt-einsum>=2.3.2 in /usr/local/lib/python3.6/dist-packages (from tensorflow==2.1.0) (3.2.0)\n",
            "Requirement already satisfied: wheel>=0.26; python_version >= \"3\" in /usr/local/lib/python3.6/dist-packages (from tensorflow==2.1.0) (0.34.2)\n",
            "Requirement already satisfied: keras-preprocessing>=1.1.0 in /usr/local/lib/python3.6/dist-packages (from tensorflow==2.1.0) (1.1.0)\n",
            "Requirement already satisfied: termcolor>=1.1.0 in /usr/local/lib/python3.6/dist-packages (from tensorflow==2.1.0) (1.1.0)\n",
            "Requirement already satisfied: absl-py>=0.7.0 in /usr/local/lib/python3.6/dist-packages (from tensorflow==2.1.0) (0.9.0)\n",
            "Collecting tensorboard<2.2.0,>=2.1.0\n",
            "\u001b[?25l  Downloading https://files.pythonhosted.org/packages/d9/41/bbf49b61370e4f4d245d4c6051dfb6db80cec672605c91b1652ac8cc3d38/tensorboard-2.1.1-py3-none-any.whl (3.8MB)\n",
            "\u001b[K     |████████████████████████████████| 3.9MB 53.2MB/s \n",
            "\u001b[?25hRequirement already satisfied: astor>=0.6.0 in /usr/local/lib/python3.6/dist-packages (from tensorflow==2.1.0) (0.8.1)\n",
            "Requirement already satisfied: google-pasta>=0.1.6 in /usr/local/lib/python3.6/dist-packages (from tensorflow==2.1.0) (0.2.0)\n",
            "Requirement already satisfied: scipy==1.4.1; python_version >= \"3\" in /usr/local/lib/python3.6/dist-packages (from tensorflow==2.1.0) (1.4.1)\n",
            "Requirement already satisfied: wrapt>=1.11.1 in /usr/local/lib/python3.6/dist-packages (from tensorflow==2.1.0) (1.12.1)\n",
            "Requirement already satisfied: h5py in /usr/local/lib/python3.6/dist-packages (from keras-applications>=1.0.8->tensorflow==2.1.0) (2.8.0)\n",
            "Requirement already satisfied: setuptools in /usr/local/lib/python3.6/dist-packages (from protobuf>=3.8.0->tensorflow==2.1.0) (46.0.0)\n",
            "Requirement already satisfied: google-auth<2,>=1.6.3 in /usr/local/lib/python3.6/dist-packages (from tensorboard<2.2.0,>=2.1.0->tensorflow==2.1.0) (1.7.2)\n",
            "Requirement already satisfied: google-auth-oauthlib<0.5,>=0.4.1 in /usr/local/lib/python3.6/dist-packages (from tensorboard<2.2.0,>=2.1.0->tensorflow==2.1.0) (0.4.1)\n",
            "Requirement already satisfied: requests<3,>=2.21.0 in /usr/local/lib/python3.6/dist-packages (from tensorboard<2.2.0,>=2.1.0->tensorflow==2.1.0) (2.21.0)\n",
            "Requirement already satisfied: werkzeug>=0.11.15 in /usr/local/lib/python3.6/dist-packages (from tensorboard<2.2.0,>=2.1.0->tensorflow==2.1.0) (1.0.0)\n",
            "Requirement already satisfied: markdown>=2.6.8 in /usr/local/lib/python3.6/dist-packages (from tensorboard<2.2.0,>=2.1.0->tensorflow==2.1.0) (3.2.1)\n",
            "Requirement already satisfied: cachetools<3.2,>=2.0.0 in /usr/local/lib/python3.6/dist-packages (from google-auth<2,>=1.6.3->tensorboard<2.2.0,>=2.1.0->tensorflow==2.1.0) (3.1.1)\n",
            "Requirement already satisfied: rsa<4.1,>=3.1.4 in /usr/local/lib/python3.6/dist-packages (from google-auth<2,>=1.6.3->tensorboard<2.2.0,>=2.1.0->tensorflow==2.1.0) (4.0)\n",
            "Requirement already satisfied: pyasn1-modules>=0.2.1 in /usr/local/lib/python3.6/dist-packages (from google-auth<2,>=1.6.3->tensorboard<2.2.0,>=2.1.0->tensorflow==2.1.0) (0.2.8)\n",
            "Requirement already satisfied: requests-oauthlib>=0.7.0 in /usr/local/lib/python3.6/dist-packages (from google-auth-oauthlib<0.5,>=0.4.1->tensorboard<2.2.0,>=2.1.0->tensorflow==2.1.0) (1.3.0)\n",
            "Requirement already satisfied: idna<2.9,>=2.5 in /usr/local/lib/python3.6/dist-packages (from requests<3,>=2.21.0->tensorboard<2.2.0,>=2.1.0->tensorflow==2.1.0) (2.8)\n",
            "Requirement already satisfied: chardet<3.1.0,>=3.0.2 in /usr/local/lib/python3.6/dist-packages (from requests<3,>=2.21.0->tensorboard<2.2.0,>=2.1.0->tensorflow==2.1.0) (3.0.4)\n",
            "Requirement already satisfied: certifi>=2017.4.17 in /usr/local/lib/python3.6/dist-packages (from requests<3,>=2.21.0->tensorboard<2.2.0,>=2.1.0->tensorflow==2.1.0) (2019.11.28)\n",
            "Requirement already satisfied: urllib3<1.25,>=1.21.1 in /usr/local/lib/python3.6/dist-packages (from requests<3,>=2.21.0->tensorboard<2.2.0,>=2.1.0->tensorflow==2.1.0) (1.24.3)\n",
            "Requirement already satisfied: pyasn1>=0.1.3 in /usr/local/lib/python3.6/dist-packages (from rsa<4.1,>=3.1.4->google-auth<2,>=1.6.3->tensorboard<2.2.0,>=2.1.0->tensorflow==2.1.0) (0.4.8)\n",
            "Requirement already satisfied: oauthlib>=3.0.0 in /usr/local/lib/python3.6/dist-packages (from requests-oauthlib>=0.7.0->google-auth-oauthlib<0.5,>=0.4.1->tensorboard<2.2.0,>=2.1.0->tensorflow==2.1.0) (3.1.0)\n",
            "\u001b[31mERROR: tensorflow-federated 0.12.0 has requirement tensorflow-addons~=0.7.0, but you'll have tensorflow-addons 0.8.3 which is incompatible.\u001b[0m\n",
            "Installing collected packages: tensorflow-estimator, tensorboard\n",
            "  Found existing installation: tensorflow-estimator 1.15.1\n",
            "    Uninstalling tensorflow-estimator-1.15.1:\n",
            "      Successfully uninstalled tensorflow-estimator-1.15.1\n",
            "  Found existing installation: tensorboard 1.15.0\n",
            "    Uninstalling tensorboard-1.15.0:\n",
            "      Successfully uninstalled tensorboard-1.15.0\n",
            "Successfully installed tensorboard-2.1.1 tensorflow-estimator-2.1.0\n"
          ],
          "name": "stdout"
        },
        {
          "output_type": "display_data",
          "data": {
            "application/vnd.colab-display-data+json": {
              "pip_warning": {
                "packages": [
                  "tensorboard",
                  "tensorflow_estimator"
                ]
              }
            }
          },
          "metadata": {
            "tags": []
          }
        }
      ]
    },
    {
      "cell_type": "code",
      "metadata": {
        "id": "edwfwq8yX40u",
        "colab_type": "code",
        "colab": {}
      },
      "source": [
        "# path to test image\n",
        "test_img_path = \"ILSVRC2012_val_00001110.JPEG\"\n",
        "# test_img_path = \"test_image_1.jpg\"\n",
        "QUANTIZE_MODEL = True\n",
        "\n",
        "if (QUANTIZE_MODEL):\n",
        "  test_model_path = \"/content/test.pb\"\n",
        "else:\n",
        "  test_model_path = \"/content/mobilenet_v2_1.0_224.pb\"\n"
      ],
      "execution_count": 0,
      "outputs": []
    },
    {
      "cell_type": "code",
      "metadata": {
        "id": "T3E31VHjb1e9",
        "colab_type": "code",
        "outputId": "47dc31fd-823d-4653-eb33-38848b816da7",
        "colab": {
          "base_uri": "https://localhost:8080/",
          "height": 51
        }
      },
      "source": [
        "!ls"
      ],
      "execution_count": 7,
      "outputs": [
        {
          "output_type": "stream",
          "text": [
            "dataset\t\t\t\t\tmobilenet_v2_1.0_224.pb  test.pb\n",
            "imagenet2012_validation_100_labels.txt\tsample_data\n"
          ],
          "name": "stdout"
        }
      ]
    },
    {
      "cell_type": "code",
      "metadata": {
        "id": "f2BPd1rRrMTv",
        "colab_type": "code",
        "colab": {}
      },
      "source": [
        "class MobileNetV2(object):\n",
        "\n",
        "    def __init__(self, model_filepath):\n",
        "\n",
        "        self.model_filepath = model_filepath\n",
        "\n",
        "        # Load and Initialize model\n",
        "        self.load_graph(model_filepath = self.model_filepath)\n",
        "\n",
        "\n",
        "    def load_graph(self, model_filepath):\n",
        "\n",
        "        print('Loading model...')\n",
        "        self.graph = tf.Graph()\n",
        "\n",
        "        with tf.io.gfile.GFile(test_model_path, 'rb') as f:\n",
        "            graph_def = tf.compat.v1.GraphDef()\n",
        "            graph_def.ParseFromString(f.read())\n",
        "        \n",
        "        with tf.Graph().as_default() as self.graph:\n",
        "          tf.import_graph_def(graph_def,\n",
        "                          input_map=None,\n",
        "                          return_elements=None,\n",
        "                          name=\"\")\n",
        "        \n",
        "        # print(self.graph.get_tensor_by_name(\"input:0\"))\n",
        "        # print(self.graph.get_tensor_by_name(\"MobilenetV2/Logits/Conv2d_1c_1x1/BiasAdd:0\"))\n",
        "\n",
        "        #Print all operations!\n",
        "        # for op in self.graph.get_operations():\n",
        "        #       # print(op.name)\n",
        "        #       print(self.graph.get_tensor_by_name(op.name+\":0\"))\n",
        "        \n",
        "        print('Model loading complete!')\n",
        "\n",
        "    def predict(self, img):\n",
        "        if(QUANTIZE_MODEL):\n",
        "          y_pred = self.graph.get_tensor_by_name(\"output_fx:0\")\n",
        "        else:\n",
        "          y_pred = self.graph.get_tensor_by_name(\"MobilenetV2/Logits/Conv2d_1c_1x1/BiasAdd:0\")\n",
        "        # y_pred = tf.reshape(y_pred, [1,1,1,1001])\n",
        "        # print(y_pred.shape)\n",
        "        if(QUANTIZE_MODEL):\n",
        "          x= self.graph.get_tensor_by_name(\"input_fx:0\")\n",
        "        else:\n",
        "          x= self.graph.get_tensor_by_name(\"input:0\")\n",
        "        sess= tf.compat.v1.Session(graph=self.graph)\n",
        "        # creating the dict to calculate y_pred \n",
        "        test_dict = {x: img}\n",
        "        result=sess.run(y_pred, feed_dict=test_dict)\n",
        "        # print(result.shape)\n",
        "        return result\n"
      ],
      "execution_count": 0,
      "outputs": []
    },
    {
      "cell_type": "code",
      "metadata": {
        "id": "HYIozn0ZYm-Y",
        "colab_type": "code",
        "outputId": "da03b89b-5a53-490a-a2a7-fe940867505e",
        "colab": {
          "base_uri": "https://localhost:8080/",
          "height": 71
        }
      },
      "source": [
        "dataset_path='/content/dataset/'\n",
        "from os import listdir\n",
        "from os.path import isfile, join\n",
        "\n",
        "def listOfTuples(l1, l2): \n",
        "    return list(map(lambda x, y:(x,y), l1, l2)) \n",
        "\n",
        "#Get 100 images\n",
        "imagenet_100=sorted(listdir(dataset_path))\n",
        "print(imagenet_100)\n",
        "#Get 100 labels\n",
        "with open('imagenet2012_validation_100_labels.txt') as f:\n",
        "    labels = f.read().splitlines()\n",
        "\n",
        "dataset = listOfTuples(imagenet_100, labels)\n",
        "print(dataset[0][0])"
      ],
      "execution_count": 9,
      "outputs": [
        {
          "output_type": "stream",
          "text": [
            "['ILSVRC2012_val_00000001.JPEG', 'ILSVRC2012_val_00000002.JPEG', 'ILSVRC2012_val_00000003.JPEG', 'ILSVRC2012_val_00000004.JPEG', 'ILSVRC2012_val_00000005.JPEG', 'ILSVRC2012_val_00000006.JPEG', 'ILSVRC2012_val_00000007.JPEG', 'ILSVRC2012_val_00000008.JPEG', 'ILSVRC2012_val_00000009.JPEG', 'ILSVRC2012_val_00000010.JPEG', 'ILSVRC2012_val_00000011.JPEG', 'ILSVRC2012_val_00000012.JPEG', 'ILSVRC2012_val_00000013.JPEG', 'ILSVRC2012_val_00000014.JPEG', 'ILSVRC2012_val_00000015.JPEG', 'ILSVRC2012_val_00000016.JPEG', 'ILSVRC2012_val_00000017.JPEG', 'ILSVRC2012_val_00000018.JPEG', 'ILSVRC2012_val_00000019.JPEG', 'ILSVRC2012_val_00000020.JPEG', 'ILSVRC2012_val_00000021.JPEG', 'ILSVRC2012_val_00000022.JPEG', 'ILSVRC2012_val_00000023.JPEG', 'ILSVRC2012_val_00000024.JPEG', 'ILSVRC2012_val_00000025.JPEG', 'ILSVRC2012_val_00000026.JPEG', 'ILSVRC2012_val_00000027.JPEG', 'ILSVRC2012_val_00000028.JPEG', 'ILSVRC2012_val_00000029.JPEG', 'ILSVRC2012_val_00000030.JPEG', 'ILSVRC2012_val_00000031.JPEG', 'ILSVRC2012_val_00000032.JPEG', 'ILSVRC2012_val_00000033.JPEG', 'ILSVRC2012_val_00000034.JPEG', 'ILSVRC2012_val_00000035.JPEG', 'ILSVRC2012_val_00000036.JPEG', 'ILSVRC2012_val_00000037.JPEG', 'ILSVRC2012_val_00000038.JPEG', 'ILSVRC2012_val_00000039.JPEG', 'ILSVRC2012_val_00000040.JPEG', 'ILSVRC2012_val_00000041.JPEG', 'ILSVRC2012_val_00000042.JPEG', 'ILSVRC2012_val_00000043.JPEG', 'ILSVRC2012_val_00000044.JPEG', 'ILSVRC2012_val_00000045.JPEG', 'ILSVRC2012_val_00000046.JPEG', 'ILSVRC2012_val_00000047.JPEG', 'ILSVRC2012_val_00000048.JPEG', 'ILSVRC2012_val_00000049.JPEG', 'ILSVRC2012_val_00000050.JPEG', 'ILSVRC2012_val_00000051.JPEG', 'ILSVRC2012_val_00000052.JPEG', 'ILSVRC2012_val_00000053.JPEG', 'ILSVRC2012_val_00000054.JPEG', 'ILSVRC2012_val_00000055.JPEG', 'ILSVRC2012_val_00000056.JPEG', 'ILSVRC2012_val_00000057.JPEG', 'ILSVRC2012_val_00000058.JPEG', 'ILSVRC2012_val_00000059.JPEG', 'ILSVRC2012_val_00000060.JPEG', 'ILSVRC2012_val_00000061.JPEG', 'ILSVRC2012_val_00000062.JPEG', 'ILSVRC2012_val_00000063.JPEG', 'ILSVRC2012_val_00000064.JPEG', 'ILSVRC2012_val_00000065.JPEG', 'ILSVRC2012_val_00000066.JPEG', 'ILSVRC2012_val_00000067.JPEG', 'ILSVRC2012_val_00000068.JPEG', 'ILSVRC2012_val_00000069.JPEG', 'ILSVRC2012_val_00000070.JPEG', 'ILSVRC2012_val_00000071.JPEG', 'ILSVRC2012_val_00000072.JPEG', 'ILSVRC2012_val_00000073.JPEG', 'ILSVRC2012_val_00000074.JPEG', 'ILSVRC2012_val_00000075.JPEG', 'ILSVRC2012_val_00000076.JPEG', 'ILSVRC2012_val_00000077.JPEG', 'ILSVRC2012_val_00000078.JPEG', 'ILSVRC2012_val_00000079.JPEG', 'ILSVRC2012_val_00000080.JPEG', 'ILSVRC2012_val_00000081.JPEG', 'ILSVRC2012_val_00000082.JPEG', 'ILSVRC2012_val_00000083.JPEG', 'ILSVRC2012_val_00000084.JPEG', 'ILSVRC2012_val_00000085.JPEG', 'ILSVRC2012_val_00000086.JPEG', 'ILSVRC2012_val_00000087.JPEG', 'ILSVRC2012_val_00000088.JPEG', 'ILSVRC2012_val_00000089.JPEG', 'ILSVRC2012_val_00000090.JPEG', 'ILSVRC2012_val_00000091.JPEG', 'ILSVRC2012_val_00000092.JPEG', 'ILSVRC2012_val_00000093.JPEG', 'ILSVRC2012_val_00000094.JPEG', 'ILSVRC2012_val_00000095.JPEG', 'ILSVRC2012_val_00000096.JPEG', 'ILSVRC2012_val_00000097.JPEG', 'ILSVRC2012_val_00000098.JPEG', 'ILSVRC2012_val_00000099.JPEG', 'ILSVRC2012_val_00000100.JPEG']\n",
            "ILSVRC2012_val_00000001.JPEG\n"
          ],
          "name": "stdout"
        }
      ]
    },
    {
      "cell_type": "code",
      "metadata": {
        "id": "imbxNPWgRIE_",
        "colab_type": "code",
        "outputId": "ce261b8f-b47a-4ac2-b1a6-e8bbdbce106f",
        "colab": {
          "base_uri": "https://localhost:8080/",
          "height": 1000
        }
      },
      "source": [
        "import numpy as np\n",
        "import tensorflow as tf\n",
        "from tensorflow.keras.preprocessing import image\n",
        "from tensorflow.keras.applications import imagenet_utils, mobilenet\n",
        "import os\n",
        "import cv2\n",
        "from tensorflow.compat.v1 import enable_eager_execution\n",
        "\n",
        "from matplotlib import pyplot as plt\n",
        "%matplotlib inline\n",
        "\n",
        "print(os.path.join(os.getcwd()))\n",
        "def process_image(img_path, mobnet=False):\n",
        "  if(mobnet):\n",
        "    img = image.load_img(img_path, target_size=(224, 224))\n",
        "    img_array = image.img_to_array(img)\n",
        "    img_array = np.expand_dims(img_array, axis=0)\n",
        "    pImg = mobilenet.preprocess_input(img_array)\n",
        "    # print(pImg.shape)\n",
        "  else:\n",
        "    from PIL import Image\n",
        "    import cv2\n",
        "    x = cv2.imread(img_path)\n",
        "    # print(x)\n",
        "    x=x[:,:,::-1]\n",
        "    img = Image.fromarray(x,'RGB')\n",
        "    pImg=np.array(img.resize((224,224))).astype(np.float)/128-1\n",
        "    pImg = np.reshape(pImg, [1,224,224,3])\n",
        "  return pImg\n",
        "\n",
        "def imshow(img):\n",
        "    img = img / 2 + 0.5  # unnormalize\n",
        "    plt.imshow(np.transpose(img, (1, 2, 0)))  # convert from Tensor image\n",
        "\n",
        "if __name__ == '__main__':\n",
        "  tf.compat.v1.enable_eager_execution()\n",
        "  # load model\n",
        "  # model = mobilenet.MobileNet()\n",
        "  model = MobileNetV2(test_model_path)\n",
        "\n",
        "  good = []\n",
        "  # process\n",
        "  for image in dataset:\n",
        "    # print(image)\n",
        "    pImg = process_image(\"dataset/\"+image[0])\n",
        "\n",
        "    # predict\n",
        "    prediction = model.predict(pImg)\n",
        "    prediction = prediction.flatten()[:-1]\n",
        "    prediction = np.reshape(prediction,[1,1000])\n",
        "    prediction = np.roll(prediction,-1)\n",
        "    results = imagenet_utils.decode_predictions(prediction, top=1)\n",
        "    # print(len(results[0]))\n",
        "    # print(len(results))\n",
        "    for r in results[0]:\n",
        "        # print(len(r),r[0])\n",
        "        if (r[0]==image[1]): \n",
        "          print(r[1],r[2],image[0])\n",
        "\n",
        "          # img = cv2.imread(\"dataset/\"+image[0])\n",
        "          # img2 = img[:,:,::-1]\n",
        "          # plt.imshow(img)"
      ],
      "execution_count": 11,
      "outputs": [
        {
          "output_type": "stream",
          "text": [
            "/content\n",
            "Loading model...\n",
            "Model loading complete!\n",
            "Shetland_sheepdog 8.125 ILSVRC2012_val_00000003.JPEG\n",
            "porcupine 9.25 ILSVRC2012_val_00000007.JPEG\n",
            "brain_coral 9.5 ILSVRC2012_val_00000011.JPEG\n",
            "cougar 10.25 ILSVRC2012_val_00000012.JPEG\n",
            "guenon 10.375 ILSVRC2012_val_00000013.JPEG\n",
            "recreational_vehicle 9.875 ILSVRC2012_val_00000014.JPEG\n",
            "harvester 8.125 ILSVRC2012_val_00000015.JPEG\n",
            "grey_whale 11.375 ILSVRC2012_val_00000016.JPEG\n",
            "carton 8.0 ILSVRC2012_val_00000019.JPEG\n",
            "crane 10.125 ILSVRC2012_val_00000020.JPEG\n",
            "porcupine 10.75 ILSVRC2012_val_00000021.JPEG\n",
            "Granny_Smith 11.25 ILSVRC2012_val_00000023.JPEG\n",
            "planetarium 11.625 ILSVRC2012_val_00000024.JPEG\n",
            "vulture 6.375 ILSVRC2012_val_00000025.JPEG\n",
            "table_lamp 10.375 ILSVRC2012_val_00000026.JPEG\n",
            "white_wolf 12.375 ILSVRC2012_val_00000027.JPEG\n",
            "go-kart 8.375 ILSVRC2012_val_00000032.JPEG\n",
            "half_track 9.25 ILSVRC2012_val_00000035.JPEG\n",
            "vestment 11.75 ILSVRC2012_val_00000036.JPEG\n",
            "abacus 7.875 ILSVRC2012_val_00000038.JPEG\n",
            "rain_barrel 8.75 ILSVRC2012_val_00000042.JPEG\n",
            "spoonbill 6.75 ILSVRC2012_val_00000043.JPEG\n",
            "standard_schnauzer 8.875 ILSVRC2012_val_00000044.JPEG\n",
            "Newfoundland 7.75 ILSVRC2012_val_00000045.JPEG\n",
            "freight_car 7.375 ILSVRC2012_val_00000047.JPEG\n",
            "pickup 6.5 ILSVRC2012_val_00000049.JPEG\n",
            "bee_eater 6.125 ILSVRC2012_val_00000051.JPEG\n",
            "axolotl 8.875 ILSVRC2012_val_00000052.JPEG\n",
            "switch 11.875 ILSVRC2012_val_00000053.JPEG\n",
            "handkerchief 9.0 ILSVRC2012_val_00000054.JPEG\n",
            "cab 10.0 ILSVRC2012_val_00000056.JPEG\n",
            "Pomeranian 7.75 ILSVRC2012_val_00000057.JPEG\n",
            "stinkhorn 11.75 ILSVRC2012_val_00000058.JPEG\n",
            "cardigan 8.375 ILSVRC2012_val_00000061.JPEG\n",
            "jellyfish 7.625 ILSVRC2012_val_00000063.JPEG\n",
            "eel 11.0 ILSVRC2012_val_00000066.JPEG\n",
            "tusker 9.375 ILSVRC2012_val_00000067.JPEG\n",
            "vestment 7.375 ILSVRC2012_val_00000068.JPEG\n",
            "dugong 10.625 ILSVRC2012_val_00000072.JPEG\n",
            "kite 8.875 ILSVRC2012_val_00000073.JPEG\n",
            "carousel 10.25 ILSVRC2012_val_00000074.JPEG\n",
            "black_grouse 11.0 ILSVRC2012_val_00000075.JPEG\n",
            "African_hunting_dog 8.0 ILSVRC2012_val_00000078.JPEG\n",
            "otterhound 9.5 ILSVRC2012_val_00000079.JPEG\n",
            "breastplate 8.75 ILSVRC2012_val_00000080.JPEG\n",
            "alp 7.25 ILSVRC2012_val_00000081.JPEG\n",
            "Afghan_hound 12.5 ILSVRC2012_val_00000082.JPEG\n",
            "cinema 12.25 ILSVRC2012_val_00000086.JPEG\n",
            "cellular_telephone 9.125 ILSVRC2012_val_00000089.JPEG\n",
            "white_wolf 8.5 ILSVRC2012_val_00000091.JPEG\n",
            "gorilla 7.125 ILSVRC2012_val_00000093.JPEG\n",
            "macaque 9.125 ILSVRC2012_val_00000095.JPEG\n",
            "passenger_car 9.0 ILSVRC2012_val_00000096.JPEG\n",
            "wood_rabbit 8.25 ILSVRC2012_val_00000097.JPEG\n",
            "dowitcher 8.125 ILSVRC2012_val_00000098.JPEG\n",
            "strawberry 10.125 ILSVRC2012_val_00000099.JPEG\n",
            "bighorn 9.375 ILSVRC2012_val_00000100.JPEG\n"
          ],
          "name": "stdout"
        }
      ]
    },
    {
      "cell_type": "code",
      "metadata": {
        "id": "NH7FssIMROWz",
        "colab_type": "code",
        "colab": {}
      },
      "source": [
        ""
      ],
      "execution_count": 0,
      "outputs": []
    }
  ]
}